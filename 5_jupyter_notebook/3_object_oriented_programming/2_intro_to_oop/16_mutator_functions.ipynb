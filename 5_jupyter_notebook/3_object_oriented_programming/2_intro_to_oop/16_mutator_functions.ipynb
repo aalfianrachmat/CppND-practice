{
 "cells": [
  {
   "cell_type": "markdown",
   "metadata": {},
   "source": [
    "# Mutator Functions\n",
    "\n",
    "A mutator function (\"Setter\") function can apply logic (\"invariants\") when updating member data.\n",
    "\n",
    "## Exercise: Car Class\n",
    "\n",
    "In this lab, we will create a setter method that receives data as an argument and convert it into a different type. Specifically, you will receive string as input and convert it to a character array.\n",
    "\n",
    "1. Create a class called `car`.\n",
    "2. Create 3 member variables: `horepower`, `weight`, and `brand`. The `brand` attribute must be a character array.\n",
    "3. Create accessor and mutator functions for all member data. The mutator function for `brand` must accept a C++ string as a parameter and convert that string into a <a href=\"https://www.learncpp.com/cpp-tutorial/66-c-style-strings/\"> **C-style string** </a> (a character array ending in null character) to set the value of `brand`.\n",
    "4. The accessor function for the `brand` must return a string, so in this function you first will need to convert `brand` to `std::string`, and then return it.\n",
    "\n",
    "\n",
    "\n",
    "## Solution\n",
    "```python\n",
    "// Partial example solution for Car class \n",
    "// getters and setters for brand only\n",
    "#include <string>\n",
    "#include <cstring>\n",
    "#include <iostream>\n",
    "// Define Car class\n",
    "class Car {\n",
    "    // Define private attributes\n",
    "    private:\n",
    "        int horse_power;\n",
    "        int weight;\n",
    "        char *brand;\n",
    "    // Declare public getter and setter\n",
    "    public:\n",
    "        void SetBrand(std::string brand_name);\n",
    "        std::string GetBrand() const;\n",
    "};\n",
    "\n",
    "// Define setter\n",
    "void Car::SetBrand(std::string brand_name) {\n",
    "    // Initialization of char array\n",
    "    Car::brand = new char[brand_name.length() + 1];\n",
    "    // copying every character from string to char array;\n",
    "    strcpy(Car::brand, brand_name.c_str());\n",
    "}\n",
    "\n",
    "// Define getter\n",
    "std::string Car::GetBrand() const {\n",
    "    std::string result = \"Brand name: \";\n",
    "    // Specifying string for output of brand name\n",
    "    result += Car::brand;\n",
    "    return result;\n",
    "};\n",
    "\n",
    "// Test in main()\n",
    "int main() {\n",
    "    Car car;\n",
    "    car.SetBrand(\"peugeot\");\n",
    "    std::cout << car.GetBrand() << \"\\n\";\n",
    "}\n",
    "```"
   ]
  },
  {
   "cell_type": "code",
   "execution_count": 1,
   "metadata": {},
   "outputs": [],
   "source": [
    "#include <string>\n",
    "#include <cstring>\n",
    "#include <iostream>"
   ]
  },
  {
   "cell_type": "code",
   "execution_count": 2,
   "metadata": {},
   "outputs": [],
   "source": [
    "class Car {\n",
    "    // TODO: Declare private attributes\n",
    "    private:\n",
    "        int horsepower;\n",
    "        int weight;\n",
    "        char brand[255];\n",
    "        \n",
    "    // TODO: Declare getter and setter for brand\n",
    "    public:\n",
    "        Car(): horsepower(0), weight(0), brand(\"Not Specified\") {}\n",
    "    \n",
    "        void SetBrand(std::string s){\n",
    "            strcpy(Car::brand, s.c_str());\n",
    "        }\n",
    "\n",
    "        void SetWeight(int w){\n",
    "            Car::weight = w;\n",
    "        }\n",
    "    \n",
    "        void SetPower(int p){\n",
    "            Car::horsepower = p;\n",
    "        }\n",
    "    \n",
    "        std::string GetBrand(){\n",
    "            std::string s(brand);\n",
    "            return s;\n",
    "        }\n",
    "    \n",
    "        int GetWeight() {\n",
    "            return Car::weight;\n",
    "        }\n",
    "\n",
    "        int GetPower() {\n",
    "            return Car::horsepower;\n",
    "        }  \n",
    "};"
   ]
  },
  {
   "cell_type": "code",
   "execution_count": 3,
   "metadata": {},
   "outputs": [
    {
     "name": "stdout",
     "output_type": "stream",
     "text": [
      "Brand: Peugeot\n",
      "Weight: 1000\n",
      "Power: 100\n"
     ]
    }
   ],
   "source": [
    "Car car;\n",
    "car.SetBrand(\"Peugeot\");\n",
    "std::cout << \"Brand: \" << car.GetBrand() << \"\\n\";\n",
    "\n",
    "car.SetWeight(1000);\n",
    "std::cout << \"Weight: \" << car.GetWeight() << \"\\n\";\n",
    "\n",
    "car.SetPower(100);\n",
    "std::cout << \"Power: \" << car.GetPower() << \"\\n\";"
   ]
  }
 ],
 "metadata": {
  "kernelspec": {
   "display_name": "C++17",
   "language": "C++17",
   "name": "xcpp17"
  },
  "language_info": {
   "codemirror_mode": "text/x-c++src",
   "file_extension": ".cpp",
   "mimetype": "text/x-c++src",
   "name": "c++",
   "version": "-std=c++17"
  }
 },
 "nbformat": 4,
 "nbformat_minor": 4
}
